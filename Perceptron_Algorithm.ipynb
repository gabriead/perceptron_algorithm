{
 "cells": [
  {
   "cell_type": "code",
   "execution_count": 54,
   "metadata": {},
   "outputs": [],
   "source": [
    "import pandas as pd\n",
    "import matplotlib.pyplot as plt\n",
    "\n",
    "def readData():\n",
    "    train_data = pd.read_csv('perceptron_data.csv', delimiter = ',')\n",
    "\n",
    "    X=train_data.iloc[:,0:2]\n",
    "    y= train_data['y']\n",
    "\n",
    "    return X, y"
   ]
  },
  {
   "cell_type": "code",
   "execution_count": 57,
   "metadata": {},
   "outputs": [],
   "source": [
    "import numpy as np\n",
    "# Setting the random seed, feel free to change it and see different solutions.\n",
    "np.random.seed(42)\n",
    "\n",
    "def stepFunction(t):\n",
    "    if t >= 0:\n",
    "        return 1\n",
    "    return 0\n",
    "\n",
    "def prediction(X, W, b):\n",
    "    return stepFunction((np.matmul(X,W)+b)[0])\n",
    "\n",
    "def perceptronStep(X, y, W, b, learn_rate = 0.01):\n",
    "\n",
    "    for i in range(len(X)):\n",
    "        point = []\n",
    "        point = X[i]\n",
    "        x1 = point[0]\n",
    "        x2 = point[1]\n",
    "        current_label = y[i]\n",
    "        y_hat = prediction(point, W, b)\n",
    "\n",
    "        if (y_hat != current_label):\n",
    "            if(y_hat==1 and current_label==0):\n",
    "                w1 = W[0]-learn_rate*x1\n",
    "                w2 = W[1]-learn_rate*x2\n",
    "                b = b-learn_rate\n",
    "                W[0] = w1\n",
    "                W[1] = w2\n",
    "            else:\n",
    "                #print (\"Moving line up\")\n",
    "                w1 = W[0]+learn_rate*x1\n",
    "                w2 = W[1]+learn_rate*x2\n",
    "                b = b+learn_rate\n",
    "                W[0] = w1\n",
    "                W[1] = w2\n",
    "\n",
    "    return W, b\n",
    "\n",
    "def trainPerceptronAlgorithm(X, y, learn_rate = 0.01, num_epochs = 25):\n",
    "    x_min, x_max = min(X.T[0]), max(X.T[0])\n",
    "    y_min, y_max = min(X.T[1]), max(X.T[1])\n",
    "    W = np.array(np.random.rand(2,1))\n",
    "    b = np.random.rand(1)[0] + x_max\n",
    "    # These are the solution lines that get plotted below.\n",
    "    boundary_lines = []\n",
    "    for i in range(num_epochs):\n",
    "        # In each epoch, we apply the perceptron step.\n",
    "        W, b = perceptronStep(X, y, W, b, learn_rate)\n",
    "        boundary_lines.append((-W[0]/W[1], -b/W[1]))\n",
    "    return boundary_lines\n"
   ]
  },
  {
   "cell_type": "code",
   "execution_count": 58,
   "metadata": {},
   "outputs": [],
   "source": [
    "X,y = readData()\n",
    "trainPerceptronAlgorithm(X,y)"
   ]
  },
  {
   "cell_type": "code",
   "execution_count": null,
   "metadata": {},
   "outputs": [],
   "source": []
  }
 ],
 "metadata": {
  "kernelspec": {
   "display_name": "Python 3",
   "language": "python",
   "name": "python3"
  },
  "language_info": {
   "codemirror_mode": {
    "name": "ipython",
    "version": 3
   },
   "file_extension": ".py",
   "mimetype": "text/x-python",
   "name": "python",
   "nbconvert_exporter": "python",
   "pygments_lexer": "ipython3",
   "version": "3.7.1"
  }
 },
 "nbformat": 4,
 "nbformat_minor": 2
}
